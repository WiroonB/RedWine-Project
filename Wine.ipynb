{
 "cells": [
  {
   "cell_type": "markdown",
   "metadata": {},
   "source": [
    "### Import Necessary Libraries"
   ]
  },
  {
   "cell_type": "code",
   "execution_count": 1,
   "metadata": {},
   "outputs": [],
   "source": [
    "import pandas as pd\n",
    "import seaborn as sns\n",
    "import numpy as np\n",
    "import matplotlib.pyplot as plt\n",
    "\n",
    "\n",
    "from sklearn.ensemble import RandomForestClassifier\n",
    "from sklearn.svm import SVC\n",
    "from sklearn import svm\n",
    "from sklearn.neural_network import MLPClassifier\n",
  
    "\n",
    "\n",
    "from sklearn.metrics import confusion_matrix, classification_report\n",
    "from sklearn.preprocessing import StandardScaler, LabelEncoder\n",
    "from sklearn.model_selection import train_test_split, GridSearchCV\n",
    "\n",
    "\n",
    "%matplotlib inline \n",
    "# will open a new window and display the graphics"
   ]
  },
  {
   "cell_type": "markdown",
   "metadata": {},
   "source": [
    "### Load Dataset"
   ]
  },
  {
   "cell_type": "code",
   "execution_count": 2,
   "metadata": {},
   "outputs": [
    {
     "data": {
      "text/html": [
       "<div>\n",
       "<style scoped>\n",
       "    .dataframe tbody tr th:only-of-type {\n",
       "        vertical-align: middle;\n",
       "    }\n",
       "\n",
       "    .dataframe tbody tr th {\n",
       "        vertical-align: top;\n",
       "    }\n",
       "\n",
       "    .dataframe thead th {\n",
       "        text-align: right;\n",
       "    }\n",
       "</style>\n",
       "<table border=\"1\" class=\"dataframe\">\n",
       "  <thead>\n",
       "    <tr style=\"text-align: right;\">\n",
       "      <th></th>\n",
       "      <th>fixed acidity</th>\n",
       "      <th>volatile acidity</th>\n",
       "      <th>citric acid</th>\n",
       "      <th>residual sugar</th>\n",
       "      <th>chlorides</th>\n",
       "      <th>free sulfur dioxide</th>\n",
       "      <th>total sulfur dioxide</th>\n",
       "      <th>density</th>\n",
       "      <th>pH</th>\n",
       "      <th>sulphates</th>\n",
       "      <th>alcohol</th>\n",
       "      <th>quality</th>\n",
       "    </tr>\n",
       "  </thead>\n",
       "  <tbody>\n",
       "    <tr>\n",
       "      <th>0</th>\n",
       "      <td>7.4</td>\n",
       "      <td>0.70</td>\n",
       "      <td>0.00</td>\n",
       "      <td>1.9</td>\n",
       "      <td>0.076</td>\n",
       "      <td>11.0</td>\n",
       "      <td>34.0</td>\n",
       "      <td>0.9978</td>\n",
       "      <td>3.51</td>\n",
       "      <td>0.56</td>\n",
       "      <td>9.4</td>\n",
       "      <td>5</td>\n",
       "    </tr>\n",
       "    <tr>\n",
       "      <th>1</th>\n",
       "      <td>7.8</td>\n",
       "      <td>0.88</td>\n",
       "      <td>0.00</td>\n",
       "      <td>2.6</td>\n",
       "      <td>0.098</td>\n",
       "      <td>25.0</td>\n",
       "      <td>67.0</td>\n",
       "      <td>0.9968</td>\n",
       "      <td>3.20</td>\n",
       "      <td>0.68</td>\n",
       "      <td>9.8</td>\n",
       "      <td>5</td>\n",
       "    </tr>\n",
       "    <tr>\n",
       "      <th>2</th>\n",
       "      <td>7.8</td>\n",
       "      <td>0.76</td>\n",
       "      <td>0.04</td>\n",
       "      <td>2.3</td>\n",
       "      <td>0.092</td>\n",
       "      <td>15.0</td>\n",
       "      <td>54.0</td>\n",
       "      <td>0.9970</td>\n",
       "      <td>3.26</td>\n",
       "      <td>0.65</td>\n",
       "      <td>9.8</td>\n",
       "      <td>5</td>\n",
       "    </tr>\n",
       "    <tr>\n",
       "      <th>3</th>\n",
       "      <td>11.2</td>\n",
       "      <td>0.28</td>\n",
       "      <td>0.56</td>\n",
       "      <td>1.9</td>\n",
       "      <td>0.075</td>\n",
       "      <td>17.0</td>\n",
       "      <td>60.0</td>\n",
       "      <td>0.9980</td>\n",
       "      <td>3.16</td>\n",
       "      <td>0.58</td>\n",
       "      <td>9.8</td>\n",
       "      <td>6</td>\n",
       "    </tr>\n",
       "    <tr>\n",
       "      <th>4</th>\n",
       "      <td>7.4</td>\n",
       "      <td>0.70</td>\n",
       "      <td>0.00</td>\n",
       "      <td>1.9</td>\n",
       "      <td>0.076</td>\n",
       "      <td>11.0</td>\n",
       "      <td>34.0</td>\n",
       "      <td>0.9978</td>\n",
       "      <td>3.51</td>\n",
       "      <td>0.56</td>\n",
       "      <td>9.4</td>\n",
       "      <td>5</td>\n",
       "    </tr>\n",
       "  </tbody>\n",
       "</table>\n",
       "</div>"
      ],
      "text/plain": [
       "   fixed acidity  volatile acidity  citric acid  residual sugar  chlorides  \\\n",
       "0            7.4              0.70         0.00             1.9      0.076   \n",
       "1            7.8              0.88         0.00             2.6      0.098   \n",
       "2            7.8              0.76         0.04             2.3      0.092   \n",
       "3           11.2              0.28         0.56             1.9      0.075   \n",
       "4            7.4              0.70         0.00             1.9      0.076   \n",
       "\n",
       "   free sulfur dioxide  total sulfur dioxide  density    pH  sulphates  \\\n",
       "0                 11.0                  34.0   0.9978  3.51       0.56   \n",
       "1                 25.0                  67.0   0.9968  3.20       0.68   \n",
       "2                 15.0                  54.0   0.9970  3.26       0.65   \n",
       "3                 17.0                  60.0   0.9980  3.16       0.58   \n",
       "4                 11.0                  34.0   0.9978  3.51       0.56   \n",
       "\n",
       "   alcohol  quality  \n",
       "0      9.4        5  \n",
       "1      9.8        5  \n",
       "2      9.8        5  \n",
       "3      9.8        6  \n",
       "4      9.4        5  "
      ]
     },
     "execution_count": 2,
     "metadata": {},
     "output_type": "execute_result"
    }
   ],
   "source": [
    "wine = pd.read_csv(r\"C:\\Users\\wiroo\\Documents\\Projects\\Data Science\\Wine\\winequality_red.csv\")\n",
    "\n",
    "wine.head()"
   ]
  },
  {
   "cell_type": "code",
   "execution_count": 3,
   "metadata": {
    "scrolled": true
   },
   "outputs": [
    {
     "name": "stdout",
     "output_type": "stream",
     "text": [
      "<class 'pandas.core.frame.DataFrame'>\n",
      "RangeIndex: 1599 entries, 0 to 1598\n",
      "Data columns (total 12 columns):\n",
      "fixed acidity           1599 non-null float64\n",
      "volatile acidity        1599 non-null float64\n",
      "citric acid             1599 non-null float64\n",
      "residual sugar          1599 non-null float64\n",
      "chlorides               1599 non-null float64\n",
      "free sulfur dioxide     1599 non-null float64\n",
      "total sulfur dioxide    1599 non-null float64\n",
      "density                 1599 non-null float64\n",
      "pH                      1599 non-null float64\n",
      "sulphates               1599 non-null float64\n",
      "alcohol                 1599 non-null float64\n",
      "quality                 1599 non-null int64\n",
      "dtypes: float64(11), int64(1)\n",
      "memory usage: 150.0 KB\n"
     ]
    }
   ],
   "source": [
    "wine.info()"
   ]
  },
  {
   "cell_type": "code",
   "execution_count": 4,
   "metadata": {
    "scrolled": true
   },
   "outputs": [
    {
     "data": {
      "text/plain": [
       "fixed acidity           0\n",
       "volatile acidity        0\n",
       "citric acid             0\n",
       "residual sugar          0\n",
       "chlorides               0\n",
       "free sulfur dioxide     0\n",
       "total sulfur dioxide    0\n",
       "density                 0\n",
       "pH                      0\n",
       "sulphates               0\n",
       "alcohol                 0\n",
       "quality                 0\n",
       "dtype: int64"
      ]
     },
     "execution_count": 4,
     "metadata": {},
     "output_type": "execute_result"
    }
   ],
   "source": [
    "wine.isnull().sum()"
   ]
  },
  {
   "cell_type": "markdown",
   "metadata": {},
   "source": [
    "### Preprocess Data"
   ]
  },
  {
   "cell_type": "code",
   "execution_count": 5,
   "metadata": {},
   "outputs": [
    {
     "data": {
      "text/plain": [
       "[Bad, Good]\n",
       "Categories (2, object): [Bad < Good]"
      ]
     },
     "execution_count": 5,
     "metadata": {},
     "output_type": "execute_result"
    }
   ],
   "source": [
    "bins = (2, 6.5, 8) # 2 bins of quality with spread of 6.5\n",
    "group_names = [\"Bad\", \"Good\"]\n",
    "wine[\"quality\"] = pd.cut(wine[\"quality\"], bins = bins, labels = group_names)\n",
    "\n",
    "wine[\"quality\"].unique()"
   ]
  },
  {
   "cell_type": "code",
   "execution_count": 6,
   "metadata": {
    "scrolled": true
   },
   "outputs": [
    {
     "data": {
      "text/html": [
       "<div>\n",
       "<style scoped>\n",
       "    .dataframe tbody tr th:only-of-type {\n",
       "        vertical-align: middle;\n",
       "    }\n",
       "\n",
       "    .dataframe tbody tr th {\n",
       "        vertical-align: top;\n",
       "    }\n",
       "\n",
       "    .dataframe thead th {\n",
       "        text-align: right;\n",
       "    }\n",
       "</style>\n",
       "<table border=\"1\" class=\"dataframe\">\n",
       "  <thead>\n",
       "    <tr style=\"text-align: right;\">\n",
       "      <th></th>\n",
       "      <th>fixed acidity</th>\n",
       "      <th>volatile acidity</th>\n",
       "      <th>citric acid</th>\n",
       "      <th>residual sugar</th>\n",
       "      <th>chlorides</th>\n",
       "      <th>free sulfur dioxide</th>\n",
       "      <th>total sulfur dioxide</th>\n",
       "      <th>density</th>\n",
       "      <th>pH</th>\n",
       "      <th>sulphates</th>\n",
       "      <th>alcohol</th>\n",
       "      <th>quality</th>\n",
       "    </tr>\n",
       "  </thead>\n",
       "  <tbody>\n",
       "    <tr>\n",
       "      <th>0</th>\n",
       "      <td>7.4</td>\n",
       "      <td>0.70</td>\n",
       "      <td>0.00</td>\n",
       "      <td>1.9</td>\n",
       "      <td>0.076</td>\n",
       "      <td>11.0</td>\n",
       "      <td>34.0</td>\n",
       "      <td>0.9978</td>\n",
       "      <td>3.51</td>\n",
       "      <td>0.56</td>\n",
       "      <td>9.4</td>\n",
       "      <td>0</td>\n",
       "    </tr>\n",
       "    <tr>\n",
       "      <th>1</th>\n",
       "      <td>7.8</td>\n",
       "      <td>0.88</td>\n",
       "      <td>0.00</td>\n",
       "      <td>2.6</td>\n",
       "      <td>0.098</td>\n",
       "      <td>25.0</td>\n",
       "      <td>67.0</td>\n",
       "      <td>0.9968</td>\n",
       "      <td>3.20</td>\n",
       "      <td>0.68</td>\n",
       "      <td>9.8</td>\n",
       "      <td>0</td>\n",
       "    </tr>\n",
       "    <tr>\n",
       "      <th>2</th>\n",
       "      <td>7.8</td>\n",
       "      <td>0.76</td>\n",
       "      <td>0.04</td>\n",
       "      <td>2.3</td>\n",
       "      <td>0.092</td>\n",
       "      <td>15.0</td>\n",
       "      <td>54.0</td>\n",
       "      <td>0.9970</td>\n",
       "      <td>3.26</td>\n",
       "      <td>0.65</td>\n",
       "      <td>9.8</td>\n",
       "      <td>0</td>\n",
       "    </tr>\n",
       "    <tr>\n",
       "      <th>3</th>\n",
       "      <td>11.2</td>\n",
       "      <td>0.28</td>\n",
       "      <td>0.56</td>\n",
       "      <td>1.9</td>\n",
       "      <td>0.075</td>\n",
       "      <td>17.0</td>\n",
       "      <td>60.0</td>\n",
       "      <td>0.9980</td>\n",
       "      <td>3.16</td>\n",
       "      <td>0.58</td>\n",
       "      <td>9.8</td>\n",
       "      <td>0</td>\n",
       "    </tr>\n",
       "    <tr>\n",
       "      <th>4</th>\n",
       "      <td>7.4</td>\n",
       "      <td>0.70</td>\n",
       "      <td>0.00</td>\n",
       "      <td>1.9</td>\n",
       "      <td>0.076</td>\n",
       "      <td>11.0</td>\n",
       "      <td>34.0</td>\n",
       "      <td>0.9978</td>\n",
       "      <td>3.51</td>\n",
       "      <td>0.56</td>\n",
       "      <td>9.4</td>\n",
       "      <td>0</td>\n",
       "    </tr>\n",
       "  </tbody>\n",
       "</table>\n",
       "</div>"
      ],
      "text/plain": [
       "   fixed acidity  volatile acidity  citric acid  residual sugar  chlorides  \\\n",
       "0            7.4              0.70         0.00             1.9      0.076   \n",
       "1            7.8              0.88         0.00             2.6      0.098   \n",
       "2            7.8              0.76         0.04             2.3      0.092   \n",
       "3           11.2              0.28         0.56             1.9      0.075   \n",
       "4            7.4              0.70         0.00             1.9      0.076   \n",
       "\n",
       "   free sulfur dioxide  total sulfur dioxide  density    pH  sulphates  \\\n",
       "0                 11.0                  34.0   0.9978  3.51       0.56   \n",
       "1                 25.0                  67.0   0.9968  3.20       0.68   \n",
       "2                 15.0                  54.0   0.9970  3.26       0.65   \n",
       "3                 17.0                  60.0   0.9980  3.16       0.58   \n",
       "4                 11.0                  34.0   0.9978  3.51       0.56   \n",
       "\n",
       "   alcohol  quality  \n",
       "0      9.4        0  \n",
       "1      9.8        0  \n",
       "2      9.8        0  \n",
       "3      9.8        0  \n",
       "4      9.4        0  "
      ]
     },
     "execution_count": 6,
     "metadata": {},
     "output_type": "execute_result"
    }
   ],
   "source": [
    "label_quality = LabelEncoder() # Change it to numerical numbers\n",
    "\n",
    "wine[\"quality\"] = label_quality.fit_transform(wine[\"quality\"])\n",
    "\n",
    "wine.head()"
   ]
  },
  {
   "cell_type": "code",
   "execution_count": 7,
   "metadata": {},
   "outputs": [
    {
     "data": {
      "text/plain": [
       "0    1382\n",
       "1     217\n",
       "Name: quality, dtype: int64"
      ]
     },
     "execution_count": 7,
     "metadata": {},
     "output_type": "execute_result"
    }
   ],
   "source": [
    "wine[\"quality\"].value_counts()"
   ]
  },
  {
   "cell_type": "code",
   "execution_count": 8,
   "metadata": {
    "scrolled": true
   },
   "outputs": [
    {
     "data": {
      "text/plain": [
       "<matplotlib.axes._subplots.AxesSubplot at 0x21a31db75c0>"
      ]
     },
     "execution_count": 8,
     "metadata": {},
     "output_type": "execute_result"
    },
    {
     "data": {
      "image/png": "[encoded data removed]",
      "text/plain": [
       "<Figure size 432x288 with 1 Axes>"
      ]
     },
     "metadata": {
      "needs_background": "light"
     },
     "output_type": "display_data"
    }
   ],
   "source": [
    "sns.countplot(wine[\"quality\"])"
   ]
  },
  {
   "cell_type": "markdown",
   "metadata": {},
   "source": [
    "#### Seperate the Dataset as reponse variable and feature variables"
   ]
  },
  {
   "cell_type": "code",
   "execution_count": 9,
   "metadata": {},
   "outputs": [],
   "source": [
    "X = wine.drop(\"quality\", axis = 1)\n",
    "y = wine[\"quality\"]"
   ]
  },
  {
   "cell_type": "markdown",
   "metadata": {},
   "source": [
    "### Train and Test Splitting of Data"
   ]
  },
  {
   "cell_type": "code",
   "execution_count": 10,
   "metadata": {},
   "outputs": [],
   "source": [
    "X_train, X_test, y_train, y_test = train_test_split(X, y, test_size = 0.2, random_state = 42)"
   ]
  },
  {
   "cell_type": "markdown",
   "metadata": {},
   "source": [
    "#### Apply Standard Scaling to get optimized result"
   ]
  },
  {
   "cell_type": "code",
   "execution_count": 11,
   "metadata": {},
   "outputs": [
    {
     "data": {
      "text/plain": [
       "array([[ 0.21833164,  0.88971201,  0.19209222, ...,  1.09349989,\n",
       "         0.45822284,  1.12317723],\n",
       "       [-1.29016623, -1.78878251,  0.65275338, ..., -0.40043872,\n",
       "        -0.40119696,  1.40827174],\n",
       "       [ 1.49475291, -0.78434707,  1.01104539, ..., -0.07566946,\n",
       "         0.51551749, -0.58738978],\n",
       "       ...,\n",
       "       [-0.65195559,  0.49909822, -1.08752211, ...,  1.28836145,\n",
       "        -0.68767023, -0.87248428],\n",
       "       [-0.24582155, -1.84458448,  0.39683051, ...,  0.05423824,\n",
       "         0.80199076,  1.40827174],\n",
       "       [-1.46422367, -1.34236676, -0.06383064, ...,  0.50891521,\n",
       "        -0.68767023,  2.92877575]])"
      ]
     },
     "execution_count": 11,
     "metadata": {},
     "output_type": "execute_result"
    }
   ],
   "source": [
    "sc = StandardScaler()\n",
    "X_train = sc.fit_transform(X_train)\n",
    "X_test = sc.transform(X_test)\n",
    "\n",
    "X_train"
   ]
  },
  {
   "cell_type": "markdown",
   "metadata": {},
   "source": [
    "### Random Forest Classifier"
   ]
  },
  {
   "cell_type": "code",
   "execution_count": 45,
   "metadata": {},
   "outputs": [],
   "source": [
    "rfc = RandomForestClassifier(n_estimators = 200, max_depth = 3)\n",
    "\n",
    "rfc.fit(X_train, y_train)\n",
    "\n",
    "pred_rfc = rfc.predict(X_test)"
   ]
  },
  {
   "cell_type": "markdown",
   "metadata": {},
   "source": [
    "#### Visualize Random Forest "
   ]
  },
  {
   "cell_type": "code",
   "execution_count": 46,
   "metadata": {
    "scrolled": true
   },
   "outputs": [
    {
     "data": {
      "image/png": "[encoded data removed]",
      "text/plain": [
       "<Figure size 864x864 with 1 Axes>"
      ]
     },
     "metadata": {
      "needs_background": "light"
     },
     "output_type": "display_data"
    }
   ],
   "source": [
    "#from sklearn import tree\n",
    "\n",
    "plt.figure(figsize = (12,12))\n",
    "tree.plot_tree(rfc.estimators_[199], fontsize = 15)\n",
    "\n",
    "tree.plot_tree(rfc.estimators_[199])\n",
    "\n",
    "plt.show()"
   ]
  },
  {
   "cell_type": "markdown",
   "metadata": {},
   "source": [
    "#### Random Forest Model Performance "
   ]
  },
  {
   "cell_type": "code",
   "execution_count": 47,
   "metadata": {
    "scrolled": false
   },
   "outputs": [
    {
     "name": "stdout",
     "output_type": "stream",
     "text": [
      "              precision    recall  f1-score   support\n",
      "\n",
      "           0       0.87      1.00      0.93       273\n",
      "           1       0.86      0.13      0.22        47\n",
      "\n",
      "    accuracy                           0.87       320\n",
      "   macro avg       0.86      0.56      0.58       320\n",
      "weighted avg       0.87      0.87      0.82       320\n",
      "\n",
      "[[272   1]\n",
      " [ 41   6]]\n"
     ]
    }
   ],
   "source": [
    "print(classification_report(y_test, pred_rfc))\n",
    "\n",
    "cm_rfc = confusion_matrix(y_test, pred_rfc)\n",
    "\n",
    "print(cm_rfc)\n"
   ]
  },
  {
   "cell_type": "markdown",
   "metadata": {},
   "source": [
    "#### Visualize Confusion Matrix"
   ]
  },
  {
   "cell_type": "code",
   "execution_count": 48,
   "metadata": {
    "scrolled": false
   },
   "outputs": [
    {
     "data": {
      "text/plain": [
       "[Text(0, 0.5, 'Bad Quality'), Text(0, 1.5, 'Good Quality')]"
      ]
     },
     "execution_count": 48,
     "metadata": {},
     "output_type": "execute_result"
    },
    {
     "data": {
      "image/png": "[encoded data removed]",
      "text/plain": [
       "<Figure size 432x288 with 2 Axes>"
      ]
     },
     "metadata": {
      "needs_background": "light"
     },
     "output_type": "display_data"
    }
   ],
   "source": [
    "ax= plt.subplot()\n",
    "sns.heatmap(cm_rfc, annot= True, fmt=\"g\", cmap= \"YlGnBu\", ax=ax)  #annot=True to annotate cells, ftm='g' to disable scientific notation\n",
    "\n",
    "# labels, title and ticks\n",
    "ax.set_xlabel('Predicted labels')\n",
    "ax.set_ylabel('True labels') \n",
    "ax.set_title('Confusion Matrix') \n",
    "ax.xaxis.set_ticklabels(['Bad Quality', 'Good Quality'])\n",
    "ax.yaxis.set_ticklabels(['Bad Quality', 'Good Quality'])\n"
   ]
  },
  {
   "cell_type": "markdown",
   "metadata": {},
   "source": [
    "### Random Forest with Class Weighting"
   ]
  },
  {
   "cell_type": "code",
   "execution_count": 49,
   "metadata": {},
   "outputs": [],
   "source": [
    "rfcB = RandomForestClassifier(n_estimators = 200, class_weight='balanced')\n",
    "\n",
    "rfcB.fit(X_train, y_train)\n",
    "\n",
    "pred_rfcB = rfcB.predict(X_test)"
   ]
  },
  {
   "cell_type": "markdown",
   "metadata": {},
   "source": [
    "#### Weighted Random Forest Model Performance"
   ]
  },
  {
   "cell_type": "code",
   "execution_count": 51,
   "metadata": {},
   "outputs": [
    {
     "name": "stdout",
     "output_type": "stream",
     "text": [
      "              precision    recall  f1-score   support\n",
      "\n",
      "           0       0.92      0.99      0.96       273\n",
      "           1       0.89      0.53      0.67        47\n",
      "\n",
      "    accuracy                           0.92       320\n",
      "   macro avg       0.91      0.76      0.81       320\n",
      "weighted avg       0.92      0.92      0.91       320\n",
      "\n",
      "[[270   3]\n",
      " [ 22  25]]\n"
     ]
    }
   ],
   "source": [
    "print(classification_report(y_test, pred_rfcB))\n",
    "\n",
    "cm_rfcB = confusion_matrix(y_test, pred_rfcB)\n",
    "\n",
    "print(cm_rfcB)"
   ]
  },
  {
   "cell_type": "markdown",
   "metadata": {},
   "source": [
    "### SVM Classifier"
   ]
  },
  {
   "cell_type": "code",
   "execution_count": 16,
   "metadata": {},
   "outputs": [],
   "source": [
    "clf = svm.SVC()\n",
    "clf.fit(X_train, y_train)\n",
    "pred_clf = clf.predict(X_test)"
   ]
  },
  {
   "cell_type": "markdown",
   "metadata": {},
   "source": [
    "#### SVM Model Performance"
   ]
  },
  {
   "cell_type": "code",
   "execution_count": 52,
   "metadata": {
    "scrolled": true
   },
   "outputs": [
    {
     "name": "stdout",
     "output_type": "stream",
     "text": [
      "              precision    recall  f1-score   support\n",
      "\n",
      "           0       0.88      0.98      0.93       273\n",
      "           1       0.71      0.26      0.37        47\n",
      "\n",
      "    accuracy                           0.88       320\n",
      "   macro avg       0.80      0.62      0.65       320\n",
      "weighted avg       0.86      0.88      0.85       320\n",
      "\n",
      "[[268   5]\n",
      " [ 35  12]]\n"
     ]
    }
   ],
   "source": [
    "print(classification_report(y_test, pred_clf))\n",
    "\n",
    "cm_clf = confusion_matrix(y_test, pred_clf)\n",
    "\n",
    "print(cm_clf)"
   ]
  },
  {
   "cell_type": "markdown",
   "metadata": {},
   "source": [
    "### SVM  with Class Weighting"
   ]
  },
  {
   "cell_type": "code",
   "execution_count": 53,
   "metadata": {},
   "outputs": [],
   "source": [
    "clfB = svm.SVC(class_weight='balanced')\n",
    "clfB.fit(X_train, y_train)\n",
    "pred_clfB = clfB.predict(X_test)"
   ]
  },
  {
   "cell_type": "markdown",
   "metadata": {},
   "source": [
    "#### Weighted SVM Model Performance"
   ]
  },
  {
   "cell_type": "code",
   "execution_count": 54,
   "metadata": {},
   "outputs": [
    {
     "name": "stdout",
     "output_type": "stream",
     "text": [
      "              precision    recall  f1-score   support\n",
      "\n",
      "           0       0.99      0.82      0.90       273\n",
      "           1       0.48      0.94      0.63        47\n",
      "\n",
      "    accuracy                           0.84       320\n",
      "   macro avg       0.73      0.88      0.77       320\n",
      "weighted avg       0.91      0.84      0.86       320\n",
      "\n",
      "[[225  48]\n",
      " [  3  44]]\n"
     ]
    }
   ],
   "source": [
    "print(classification_report(y_test, pred_clfB))\n",
    "\n",
    "cm_clfB = confusion_matrix(y_test, pred_clfB)\n",
    "\n",
    "print(cm_clfB)"
   ]
  },
  {
   "cell_type": "markdown",
   "metadata": {},
   "source": [
    "#### SVM Classifier with Hyper-parameter Tuning "
   ]
  },
  {
   "cell_type": "code",
   "execution_count": 55,
   "metadata": {},
   "outputs": [
    {
     "name": "stdout",
     "output_type": "stream",
     "text": [
      "Fitting 5 folds for each of 25 candidates, totalling 125 fits\n",
      "[CV 1/5] END ....................C=0.1, gamma=1;, score=0.875 total time=   0.0s\n",
      "[CV 2/5] END ....................C=0.1, gamma=1;, score=0.906 total time=   0.0s\n",
      "[CV 3/5] END ....................C=0.1, gamma=1;, score=0.887 total time=   0.0s\n",
      "[CV 4/5] END ....................C=0.1, gamma=1;, score=0.871 total time=   0.0s\n",
      "[CV 5/5] END ....................C=0.1, gamma=1;, score=0.890 total time=   0.0s\n",
      "[CV 1/5] END ..................C=0.1, gamma=0.1;, score=0.773 total time=   0.0s\n",
      "[CV 2/5] END ..................C=0.1, gamma=0.1;, score=0.762 total time=   0.0s\n",
      "[CV 3/5] END ..................C=0.1, gamma=0.1;, score=0.797 total time=   0.0s\n",
      "[CV 4/5] END ..................C=0.1, gamma=0.1;, score=0.777 total time=   0.0s\n",
      "[CV 5/5] END ..................C=0.1, gamma=0.1;, score=0.757 total time=   0.0s\n",
      "[CV 1/5] END .................C=0.1, gamma=0.01;, score=0.777 total time=   0.0s\n",
      "[CV 2/5] END .................C=0.1, gamma=0.01;, score=0.773 total time=   0.0s\n",
      "[CV 3/5] END .................C=0.1, gamma=0.01;, score=0.770 total time=   0.0s\n",
      "[CV 4/5] END .................C=0.1, gamma=0.01;, score=0.773 total time=   0.0s\n",
      "[CV 5/5] END .................C=0.1, gamma=0.01;, score=0.745 total time=   0.0s\n",
      "[CV 1/5] END ................C=0.1, gamma=0.001;, score=0.176 total time=   0.0s\n",
      "[CV 2/5] END ................C=0.1, gamma=0.001;, score=0.168 total time=   0.0s\n",
      "[CV 3/5] END ................C=0.1, gamma=0.001;, score=0.250 total time=   0.0s\n",
      "[CV 4/5] END ................C=0.1, gamma=0.001;, score=0.184 total time=   0.0s\n",
      "[CV 5/5] END ................C=0.1, gamma=0.001;, score=0.875 total time=   0.0s\n",
      "[CV 1/5] END ...............C=0.1, gamma=0.0001;, score=0.133 total time=   0.0s\n",
      "[CV 2/5] END ...............C=0.1, gamma=0.0001;, score=0.133 total time=   0.0s\n",
      "[CV 3/5] END ...............C=0.1, gamma=0.0001;, score=0.133 total time=   0.0s\n",
      "[CV 4/5] END ...............C=0.1, gamma=0.0001;, score=0.133 total time=   0.0s\n",
      "[CV 5/5] END ...............C=0.1, gamma=0.0001;, score=0.867 total time=   0.0s\n",
      "[CV 1/5] END ......................C=1, gamma=1;, score=0.871 total time=   0.0s\n",
      "[CV 2/5] END ......................C=1, gamma=1;, score=0.910 total time=   0.0s\n",
      "[CV 3/5] END ......................C=1, gamma=1;, score=0.887 total time=   0.0s\n",
      "[CV 4/5] END ......................C=1, gamma=1;, score=0.902 total time=   0.0s\n",
      "[CV 5/5] END ......................C=1, gamma=1;, score=0.918 total time=   0.0s\n",
      "[CV 1/5] END ....................C=1, gamma=0.1;, score=0.793 total time=   0.0s\n",
      "[CV 2/5] END ....................C=1, gamma=0.1;, score=0.840 total time=   0.0s\n",
      "[CV 3/5] END ....................C=1, gamma=0.1;, score=0.812 total time=   0.0s\n",
      "[CV 4/5] END ....................C=1, gamma=0.1;, score=0.801 total time=   0.0s\n",
      "[CV 5/5] END ....................C=1, gamma=0.1;, score=0.812 total time=   0.0s\n",
      "[CV 1/5] END ...................C=1, gamma=0.01;, score=0.770 total time=   0.0s\n",
      "[CV 2/5] END ...................C=1, gamma=0.01;, score=0.777 total time=   0.0s\n",
      "[CV 3/5] END ...................C=1, gamma=0.01;, score=0.781 total time=   0.0s\n",
      "[CV 4/5] END ...................C=1, gamma=0.01;, score=0.754 total time=   0.0s\n",
      "[CV 5/5] END ...................C=1, gamma=0.01;, score=0.761 total time=   0.0s\n",
      "[CV 1/5] END ..................C=1, gamma=0.001;, score=0.781 total time=   0.0s\n",
      "[CV 2/5] END ..................C=1, gamma=0.001;, score=0.785 total time=   0.0s\n",
      "[CV 3/5] END ..................C=1, gamma=0.001;, score=0.766 total time=   0.0s\n",
      "[CV 4/5] END ..................C=1, gamma=0.001;, score=0.777 total time=   0.0s\n",
      "[CV 5/5] END ..................C=1, gamma=0.001;, score=0.753 total time=   0.0s\n",
      "[CV 1/5] END .................C=1, gamma=0.0001;, score=0.875 total time=   0.0s\n",
      "[CV 2/5] END .................C=1, gamma=0.0001;, score=0.871 total time=   0.0s\n",
      "[CV 3/5] END .................C=1, gamma=0.0001;, score=0.852 total time=   0.0s\n",
      "[CV 4/5] END .................C=1, gamma=0.0001;, score=0.895 total time=   0.0s\n",
      "[CV 5/5] END .................C=1, gamma=0.0001;, score=0.157 total time=   0.0s\n",
      "[CV 1/5] END .....................C=10, gamma=1;, score=0.863 total time=   0.0s\n",
      "[CV 2/5] END .....................C=10, gamma=1;, score=0.910 total time=   0.0s\n",
      "[CV 3/5] END .....................C=10, gamma=1;, score=0.891 total time=   0.0s\n",
      "[CV 4/5] END .....................C=10, gamma=1;, score=0.898 total time=   0.0s\n",
      "[CV 5/5] END .....................C=10, gamma=1;, score=0.910 total time=   0.0s\n",
      "[CV 1/5] END ...................C=10, gamma=0.1;, score=0.832 total time=   0.0s\n",
      "[CV 2/5] END ...................C=10, gamma=0.1;, score=0.879 total time=   0.0s\n",
      "[CV 3/5] END ...................C=10, gamma=0.1;, score=0.863 total time=   0.0s\n",
      "[CV 4/5] END ...................C=10, gamma=0.1;, score=0.824 total time=   0.0s\n",
      "[CV 5/5] END ...................C=10, gamma=0.1;, score=0.843 total time=   0.0s\n",
      "[CV 1/5] END ..................C=10, gamma=0.01;, score=0.770 total time=   0.0s\n",
      "[CV 2/5] END ..................C=10, gamma=0.01;, score=0.805 total time=   0.0s\n",
      "[CV 3/5] END ..................C=10, gamma=0.01;, score=0.801 total time=   0.0s\n",
      "[CV 4/5] END ..................C=10, gamma=0.01;, score=0.766 total time=   0.0s\n",
      "[CV 5/5] END ..................C=10, gamma=0.01;, score=0.773 total time=   0.0s\n",
      "[CV 1/5] END .................C=10, gamma=0.001;, score=0.773 total time=   0.0s\n",
      "[CV 2/5] END .................C=10, gamma=0.001;, score=0.781 total time=   0.0s\n",
      "[CV 3/5] END .................C=10, gamma=0.001;, score=0.777 total time=   0.0s\n",
      "[CV 4/5] END .................C=10, gamma=0.001;, score=0.746 total time=   0.0s\n",
      "[CV 5/5] END .................C=10, gamma=0.001;, score=0.749 total time=   0.0s\n",
      "[CV 1/5] END ................C=10, gamma=0.0001;, score=0.781 total time=   0.0s\n",
      "[CV 2/5] END ................C=10, gamma=0.0001;, score=0.785 total time=   0.0s\n",
      "[CV 3/5] END ................C=10, gamma=0.0001;, score=0.766 total time=   0.0s\n",
      "[CV 4/5] END ................C=10, gamma=0.0001;, score=0.773 total time=   0.0s\n",
      "[CV 5/5] END ................C=10, gamma=0.0001;, score=0.753 total time=   0.0s\n",
      "[CV 1/5] END ....................C=100, gamma=1;, score=0.863 total time=   0.0s\n",
      "[CV 2/5] END ....................C=100, gamma=1;, score=0.910 total time=   0.0s\n",
      "[CV 3/5] END ....................C=100, gamma=1;, score=0.891 total time=   0.0s\n",
      "[CV 4/5] END ....................C=100, gamma=1;, score=0.898 total time=   0.0s\n",
      "[CV 5/5] END ....................C=100, gamma=1;, score=0.910 total time=   0.0s\n",
      "[CV 1/5] END ..................C=100, gamma=0.1;, score=0.863 total time=   0.0s\n",
      "[CV 2/5] END ..................C=100, gamma=0.1;, score=0.910 total time=   0.0s\n",
      "[CV 3/5] END ..................C=100, gamma=0.1;, score=0.867 total time=   0.0s\n",
      "[CV 4/5] END ..................C=100, gamma=0.1;, score=0.844 total time=   0.0s\n",
      "[CV 5/5] END ..................C=100, gamma=0.1;, score=0.878 total time=   0.0s\n",
      "[CV 1/5] END .................C=100, gamma=0.01;, score=0.789 total time=   0.0s\n",
      "[CV 2/5] END .................C=100, gamma=0.01;, score=0.836 total time=   0.0s\n",
      "[CV 3/5] END .................C=100, gamma=0.01;, score=0.809 total time=   0.0s\n",
      "[CV 4/5] END .................C=100, gamma=0.01;, score=0.781 total time=   0.0s\n",
      "[CV 5/5] END .................C=100, gamma=0.01;, score=0.820 total time=   0.0s\n",
      "[CV 1/5] END ................C=100, gamma=0.001;, score=0.785 total time=   0.0s\n",
      "[CV 2/5] END ................C=100, gamma=0.001;, score=0.766 total time=   0.0s\n",
      "[CV 3/5] END ................C=100, gamma=0.001;, score=0.801 total time=   0.0s\n",
      "[CV 4/5] END ................C=100, gamma=0.001;, score=0.738 total time=   0.0s\n",
      "[CV 5/5] END ................C=100, gamma=0.001;, score=0.765 total time=   0.0s\n",
      "[CV 1/5] END ...............C=100, gamma=0.0001;, score=0.773 total time=   0.0s\n",
      "[CV 2/5] END ...............C=100, gamma=0.0001;, score=0.781 total time=   0.0s\n",
      "[CV 3/5] END ...............C=100, gamma=0.0001;, score=0.777 total time=   0.0s\n",
      "[CV 4/5] END ...............C=100, gamma=0.0001;, score=0.758 total time=   0.0s\n",
      "[CV 5/5] END ...............C=100, gamma=0.0001;, score=0.749 total time=   0.0s\n",
      "[CV 1/5] END ...................C=1000, gamma=1;, score=0.863 total time=   0.0s\n",
      "[CV 2/5] END ...................C=1000, gamma=1;, score=0.910 total time=   0.0s\n"
     ]
    },
    {
     "name": "stdout",
     "output_type": "stream",
     "text": [
      "[CV 3/5] END ...................C=1000, gamma=1;, score=0.891 total time=   0.0s\n",
      "[CV 4/5] END ...................C=1000, gamma=1;, score=0.898 total time=   0.0s\n",
      "[CV 5/5] END ...................C=1000, gamma=1;, score=0.910 total time=   0.0s\n",
      "[CV 1/5] END .................C=1000, gamma=0.1;, score=0.859 total time=   0.0s\n",
      "[CV 2/5] END .................C=1000, gamma=0.1;, score=0.906 total time=   0.0s\n",
      "[CV 3/5] END .................C=1000, gamma=0.1;, score=0.883 total time=   0.0s\n",
      "[CV 4/5] END .................C=1000, gamma=0.1;, score=0.875 total time=   0.0s\n",
      "[CV 5/5] END .................C=1000, gamma=0.1;, score=0.875 total time=   0.0s\n",
      "[CV 1/5] END ................C=1000, gamma=0.01;, score=0.820 total time=   0.0s\n",
      "[CV 2/5] END ................C=1000, gamma=0.01;, score=0.848 total time=   0.0s\n",
      "[CV 3/5] END ................C=1000, gamma=0.01;, score=0.816 total time=   0.1s\n",
      "[CV 4/5] END ................C=1000, gamma=0.01;, score=0.797 total time=   0.1s\n",
      "[CV 5/5] END ................C=1000, gamma=0.01;, score=0.827 total time=   0.1s\n",
      "[CV 1/5] END ...............C=1000, gamma=0.001;, score=0.770 total time=   0.0s\n",
      "[CV 2/5] END ...............C=1000, gamma=0.001;, score=0.812 total time=   0.0s\n",
      "[CV 3/5] END ...............C=1000, gamma=0.001;, score=0.797 total time=   0.0s\n",
      "[CV 4/5] END ...............C=1000, gamma=0.001;, score=0.766 total time=   0.0s\n",
      "[CV 5/5] END ...............C=1000, gamma=0.001;, score=0.776 total time=   0.0s\n",
      "[CV 1/5] END ..............C=1000, gamma=0.0001;, score=0.777 total time=   0.0s\n",
      "[CV 2/5] END ..............C=1000, gamma=0.0001;, score=0.777 total time=   0.0s\n",
      "[CV 3/5] END ..............C=1000, gamma=0.0001;, score=0.781 total time=   0.0s\n",
      "[CV 4/5] END ..............C=1000, gamma=0.0001;, score=0.734 total time=   0.0s\n",
      "[CV 5/5] END ..............C=1000, gamma=0.0001;, score=0.753 total time=   0.0s\n"
     ]
    },
    {
     "data": {
      "text/plain": [
       "GridSearchCV(estimator=SVC(class_weight='balanced'),\n",
       "             param_grid={'C': [0.1, 1, 10, 100, 1000],\n",
       "                         'gamma': [1, 0.1, 0.01, 0.001, 0.0001]},\n",
       "             verbose=3)"
      ]
     },
     "execution_count": 55,
     "metadata": {},
     "output_type": "execute_result"
    }
   ],
   "source": [
    "#from sklearn.model_selection import GridSearchCV\n",
    "  \n",
    "# defining parameter range\n",
    "param_grid = {'C': [0.1, 1, 10, 100, 1000], \n",
    "              'gamma': [1, 0.1, 0.01, 0.001, 0.0001]} \n",
    "  \n",
    "grid = GridSearchCV(clfB, param_grid, refit = True, verbose = 3)\n",
    "\n",
    "# fitting the model for grid search\n",
    "grid.fit(X_train, y_train)"
   ]
  },
  {
   "cell_type": "code",
   "execution_count": 56,
   "metadata": {},
   "outputs": [
    {
     "name": "stdout",
     "output_type": "stream",
     "text": [
      "{'C': 1, 'gamma': 1}\n",
      "SVC(C=1, class_weight='balanced', gamma=1)\n"
     ]
    }
   ],
   "source": [
    "# print best parameter after tuning\n",
    "print(grid.best_params_)\n",
    "  \n",
    "# print how our model looks after hyper-parameter tuning\n",
    "print(grid.best_estimator_)"
   ]
  },
  {
   "cell_type": "code",
   "execution_count": 57,
   "metadata": {},
   "outputs": [
    {
     "name": "stdout",
     "output_type": "stream",
     "text": [
      "              precision    recall  f1-score   support\n",
      "\n",
      "           0       0.93      0.97      0.95       273\n",
      "           1       0.74      0.55      0.63        47\n",
      "\n",
      "    accuracy                           0.91       320\n",
      "   macro avg       0.83      0.76      0.79       320\n",
      "weighted avg       0.90      0.91      0.90       320\n",
      "\n",
      "[[264   9]\n",
      " [ 21  26]]\n"
     ]
    }
   ],
   "source": [
    "grid_predictions = grid.predict(X_test)\n",
    "  \n",
    "# print classification report\n",
    "print(classification_report(y_test, grid_predictions))\n",
    "\n",
    "cm_clfG = confusion_matrix(y_test, grid_predictions)\n",
    "\n",
    "print(cm_clfG)"
   ]
  },
  {
   "cell_type": "markdown",
   "metadata": {},
   "source": [
    "#### Accuracy Score"
   ]
  },
  {
   "cell_type": "code",
   "execution_count": 59,
   "metadata": {
    "scrolled": true
   },
   "outputs": [
    {
     "name": "stdout",
     "output_type": "stream",
     "text": [
      "0.86875\n",
      "0.921875\n",
      "0.875\n",
      "0.840625\n",
      "0.90625\n"
     ]
    }
   ],
   "source": [
    "from sklearn.metrics import accuracy_score\n",
    "\n",
    "ac_rfc = accuracy_score(y_test, pred_rfc) # random forest\n",
    "ac_rfcB = accuracy_score(y_test, pred_rfcB)# weighted random forest\n",
    "ac_clf = accuracy_score(y_test, pred_clf) # SVM\n",
    "ac_clfB = accuracy_score(y_test, pred_clfB)# weighted SVM\n",
    "ac_grid = accuracy_score(y_test, grid_predictions) # gridsearch weighted SVM\n",
    "\n",
    "\n",
    "print(ac_rfc)\n",
    "print(ac_rfcB)\n",
    "print(ac_clf)\n",
    "print(ac_clfB)\n",
    "print(ac_grid)\n",
    "\n",
    "# Weighted Random Forest has the best accuracy score.\n",
    "\n"
   ]
  },
  {
   "cell_type": "markdown",
   "metadata": {},
   "source": [
    "#### AUC(Area Under the Curve)"
   ]
  },
  {
   "cell_type": "code",
   "execution_count": 60,
   "metadata": {},
   "outputs": [
    {
     "name": "stdout",
     "output_type": "stream",
     "text": [
      "0.5619982854025407\n",
      "0.7604629413140053\n",
      "0.6185020653105758\n",
      "0.8801730184708908\n",
      "0.7601122281973347\n"
     ]
    }
   ],
   "source": [
    "from sklearn.metrics import roc_auc_score\n",
    "\n",
    "auc_rfc = roc_auc_score(y_test, pred_rfc) # random forest\n",
    "auc_rfcB = roc_auc_score(y_test, pred_rfcB) # weighted ramdom forest\n",
    "auc_clf = roc_auc_score(y_test, pred_clf) # SVM\n",
    "auc_clfB = roc_auc_score(y_test, pred_clfB) # weighted SVM\n",
    "auc_grid = roc_auc_score(y_test, grid_predictions) #grid search weighted SVM\n",
    "\n",
    "\n",
    "print(auc_rfc)\n",
    "print(auc_rfcB)\n",
    "print(auc_clf)\n",
    "print(auc_clfB)\n",
    "print(auc_grid)\n",
    "\n",
    "# Weighted SVM has the best auc score.\n"
   ]
  },
  {
   "cell_type": "markdown",
   "metadata": {},
   "source": [
    "#### Predict Bad or Good Wine with New data"
   ]
  },
  {
   "cell_type": "code",
   "execution_count": 61,
   "metadata": {},
   "outputs": [
    {
     "data": {
      "text/plain": [
       "array([0])"
      ]
     },
     "execution_count": 61,
     "metadata": {},
     "output_type": "execute_result"
    }
   ],
   "source": [
    "Xnew = [[7.3, 0.58, 0.00, 2.0, 0.065, 15.0, 21.0, 0.9946, 3.36, 0.47, 10.0]]\n",
    "# random data \n",
    "\n",
    "Xnew = sc.transform(Xnew) #standard scaler\n",
    "\n",
    "ynew = rfcB.predict(Xnew) #using  weighted random forest\n",
    "\n",
    "ynew\n",
    "\n",
    "\n",
    "# It is a Bad wine"
   ]
  }
 ],
 "metadata": {
  "kernelspec": {
   "display_name": "Python 3",
   "language": "python",
   "name": "python3"
  },
  "language_info": {
   "codemirror_mode": {
    "name": "ipython",
    "version": 3
   },
   "file_extension": ".py",
   "mimetype": "text/x-python",
   "name": "python",
   "nbconvert_exporter": "python",
   "pygments_lexer": "ipython3",
   "version": "3.7.3"
  }
 },
 "nbformat": 4,
 "nbformat_minor": 2
}
